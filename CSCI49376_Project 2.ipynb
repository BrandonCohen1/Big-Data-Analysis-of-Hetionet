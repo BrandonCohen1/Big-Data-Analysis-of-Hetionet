{
 "cells": [
  {
   "cell_type": "markdown",
   "id": "5aebbdfe",
   "metadata": {},
   "source": [
    "## Libraries"
   ]
  },
  {
   "cell_type": "code",
   "execution_count": 5,
   "id": "60ba3d20",
   "metadata": {},
   "outputs": [],
   "source": [
    "# Import necessary libraries\n",
    "import pandas as pd\n",
    "from pyspark.sql import SparkSession\n",
    "from pyspark.sql.functions import col, sum, when, collect_list, size, count\n",
    "from pyspark.sql import functions as F\n",
    "import findspark\n",
    "findspark.init()"
   ]
  },
  {
   "cell_type": "markdown",
   "id": "e6ca8ac9",
   "metadata": {},
   "source": [
    "## Read Nodes from .tsv"
   ]
  },
  {
   "cell_type": "code",
   "execution_count": 6,
   "id": "d50aabc8",
   "metadata": {},
   "outputs": [
    {
     "data": {
      "text/html": [
       "<div>\n",
       "<style scoped>\n",
       "    .dataframe tbody tr th:only-of-type {\n",
       "        vertical-align: middle;\n",
       "    }\n",
       "\n",
       "    .dataframe tbody tr th {\n",
       "        vertical-align: top;\n",
       "    }\n",
       "\n",
       "    .dataframe thead th {\n",
       "        text-align: right;\n",
       "    }\n",
       "</style>\n",
       "<table border=\"1\" class=\"dataframe\">\n",
       "  <thead>\n",
       "    <tr style=\"text-align: right;\">\n",
       "      <th></th>\n",
       "      <th>id</th>\n",
       "      <th>name</th>\n",
       "      <th>kind</th>\n",
       "    </tr>\n",
       "  </thead>\n",
       "  <tbody>\n",
       "    <tr>\n",
       "      <th>1</th>\n",
       "      <td>Anatomy::UBERON:0000002</td>\n",
       "      <td>uterine cervix</td>\n",
       "      <td>Anatomy</td>\n",
       "    </tr>\n",
       "    <tr>\n",
       "      <th>2</th>\n",
       "      <td>Anatomy::UBERON:0000004</td>\n",
       "      <td>nose</td>\n",
       "      <td>Anatomy</td>\n",
       "    </tr>\n",
       "    <tr>\n",
       "      <th>3</th>\n",
       "      <td>Anatomy::UBERON:0000006</td>\n",
       "      <td>islet of Langerhans</td>\n",
       "      <td>Anatomy</td>\n",
       "    </tr>\n",
       "    <tr>\n",
       "      <th>4</th>\n",
       "      <td>Anatomy::UBERON:0000007</td>\n",
       "      <td>pituitary gland</td>\n",
       "      <td>Anatomy</td>\n",
       "    </tr>\n",
       "    <tr>\n",
       "      <th>5</th>\n",
       "      <td>Anatomy::UBERON:0000010</td>\n",
       "      <td>peripheral nervous system</td>\n",
       "      <td>Anatomy</td>\n",
       "    </tr>\n",
       "  </tbody>\n",
       "</table>\n",
       "</div>"
      ],
      "text/plain": [
       "0                       id                       name     kind\n",
       "1  Anatomy::UBERON:0000002             uterine cervix  Anatomy\n",
       "2  Anatomy::UBERON:0000004                       nose  Anatomy\n",
       "3  Anatomy::UBERON:0000006        islet of Langerhans  Anatomy\n",
       "4  Anatomy::UBERON:0000007            pituitary gland  Anatomy\n",
       "5  Anatomy::UBERON:0000010  peripheral nervous system  Anatomy"
      ]
     },
     "execution_count": 6,
     "metadata": {},
     "output_type": "execute_result"
    }
   ],
   "source": [
    "# Open nodes tsv and read into df_nodes\n",
    "\n",
    "nodes_path = \"C:/Users/bwc07/Downloads/nodes_test.tsv\"\n",
    "data = []   # Holds each line seperated in an array\n",
    "temp = []   # Used to hold line after split by '\\t'\n",
    "\n",
    "# Read the file by each line\n",
    "with open(nodes_path, \"r\") as file:\n",
    "    for line in file:\n",
    "        line = line[:-1]   #Remove '\\n' at end of line\n",
    "        temp = line.split('\\t')\n",
    "        data.append(temp)\n",
    "        \n",
    "# Make dataframe\n",
    "df_nodes = pd.DataFrame(data)\n",
    "df_nodes = df_nodes.drop(df_nodes.columns[-1], axis=1)   # Drop last column\n",
    "df_nodes.columns = df_nodes.iloc[0]   # Make first row the Column titles\n",
    "df_nodes = df_nodes[1:]   # Remove the first column\n",
    "df_nodes.head()"
   ]
  },
  {
   "cell_type": "markdown",
   "id": "a3148c03",
   "metadata": {},
   "source": [
    "## Read Edges from .tsv"
   ]
  },
  {
   "cell_type": "code",
   "execution_count": 7,
   "id": "bdaec699",
   "metadata": {},
   "outputs": [
    {
     "data": {
      "text/html": [
       "<div>\n",
       "<style scoped>\n",
       "    .dataframe tbody tr th:only-of-type {\n",
       "        vertical-align: middle;\n",
       "    }\n",
       "\n",
       "    .dataframe tbody tr th {\n",
       "        vertical-align: top;\n",
       "    }\n",
       "\n",
       "    .dataframe thead th {\n",
       "        text-align: right;\n",
       "    }\n",
       "</style>\n",
       "<table border=\"1\" class=\"dataframe\">\n",
       "  <thead>\n",
       "    <tr style=\"text-align: right;\">\n",
       "      <th></th>\n",
       "      <th>Source</th>\n",
       "      <th>metaedge</th>\n",
       "      <th>target</th>\n",
       "    </tr>\n",
       "  </thead>\n",
       "  <tbody>\n",
       "    <tr>\n",
       "      <th>1</th>\n",
       "      <td>Gene::801</td>\n",
       "      <td>GiG</td>\n",
       "      <td>Gene::7428</td>\n",
       "    </tr>\n",
       "    <tr>\n",
       "      <th>2</th>\n",
       "      <td>Gene::5987</td>\n",
       "      <td>GiG</td>\n",
       "      <td>Gene::9412</td>\n",
       "    </tr>\n",
       "    <tr>\n",
       "      <th>3</th>\n",
       "      <td>Gene::5747</td>\n",
       "      <td>GiG</td>\n",
       "      <td>Gene::79738</td>\n",
       "    </tr>\n",
       "    <tr>\n",
       "      <th>4</th>\n",
       "      <td>Gene::3725</td>\n",
       "      <td>GiG</td>\n",
       "      <td>Gene::10514</td>\n",
       "    </tr>\n",
       "    <tr>\n",
       "      <th>5</th>\n",
       "      <td>Gene::10014</td>\n",
       "      <td>GiG</td>\n",
       "      <td>Gene::55844</td>\n",
       "    </tr>\n",
       "  </tbody>\n",
       "</table>\n",
       "</div>"
      ],
      "text/plain": [
       "0       Source metaedge       target\n",
       "1    Gene::801      GiG   Gene::7428\n",
       "2   Gene::5987      GiG   Gene::9412\n",
       "3   Gene::5747      GiG  Gene::79738\n",
       "4   Gene::3725      GiG  Gene::10514\n",
       "5  Gene::10014      GiG  Gene::55844"
      ]
     },
     "execution_count": 7,
     "metadata": {},
     "output_type": "execute_result"
    }
   ],
   "source": [
    "# Open nodes tsv and read into df_edges\n",
    "\n",
    "edges_path = \"C:/Users/bwc07/Downloads/edges_test.tsv\"\n",
    "data_e = []   # Holds each line seperated in an array\n",
    "temp_e = []   # Used to hold line after split by '\\t'\n",
    "\n",
    "# Read the file by each line\n",
    "with open(edges_path, \"r\") as file:\n",
    "    for line in file:\n",
    "        line = line[:-1]   #Remove '\\n' at end of line\n",
    "        temp_e = line.split('\\t')\n",
    "        data_e.append(temp_e)\n",
    "        \n",
    "# Make dataframe\n",
    "df_edges = pd.DataFrame(data_e)\n",
    "df_edges = df_edges.drop(df_edges.columns[-1], axis=1)   # Drop last column\n",
    "df_edges.columns = df_edges.iloc[0]   # Make first row the Column titles\n",
    "df_edges = df_edges[1:]   # Remove the first column\n",
    "\n",
    "# I have to do this because there was a format error when reading the data\n",
    "temp_split = df_edges.iloc[409606][0].split(\" \")\n",
    "# Correct data\n",
    "df_edges['ource'] = df_edges['ource'].replace([df_edges.iloc[409606][0]], temp_split[0])\n",
    "df_edges['metaedge'] = df_edges['metaedge'].replace([\"Gene::10000000\"], temp_split[1])\n",
    "df_edges['target'] = df_edges['target'].replace([None], \"Gene::10000000\")\n",
    "df_edges.rename(columns = {'ource':'Source'}, inplace = True)\n",
    "\n",
    "df_edges.head()"
   ]
  },
  {
   "cell_type": "markdown",
   "id": "1fa5387e",
   "metadata": {},
   "source": [
    "## Create Spark for Nodes"
   ]
  },
  {
   "cell_type": "code",
   "execution_count": 53,
   "id": "1b3f1f0c",
   "metadata": {},
   "outputs": [],
   "source": [
    "# Create a Spark session\n",
    "spark1 = SparkSession.builder.appName(\"NODES\").getOrCreate()\n",
    "\n",
    "# Convert the Pandas DataFrame to a PySpark DataFrame\n",
    "nodes = spark1.createDataFrame(df_nodes)"
   ]
  },
  {
   "cell_type": "code",
   "execution_count": 9,
   "id": "3718e0f1",
   "metadata": {
    "scrolled": true
   },
   "outputs": [
    {
     "name": "stdout",
     "output_type": "stream",
     "text": [
      "+-----------------------+-------------------------+-------+\n",
      "|id                     |name                     |kind   |\n",
      "+-----------------------+-------------------------+-------+\n",
      "|Anatomy::UBERON:0000002|uterine cervix           |Anatomy|\n",
      "|Anatomy::UBERON:0000004|nose                     |Anatomy|\n",
      "|Anatomy::UBERON:0000006|islet of Langerhans      |Anatomy|\n",
      "|Anatomy::UBERON:0000007|pituitary gland          |Anatomy|\n",
      "|Anatomy::UBERON:0000010|peripheral nervous system|Anatomy|\n",
      "+-----------------------+-------------------------+-------+\n",
      "only showing top 5 rows\n",
      "\n"
     ]
    }
   ],
   "source": [
    "# Show the first few rows of the PySpark DataFrame\n",
    "nodes.show(5, truncate=False)"
   ]
  },
  {
   "cell_type": "code",
   "execution_count": 10,
   "id": "1a6bff28",
   "metadata": {},
   "outputs": [
    {
     "data": {
      "text/plain": [
       "23042"
      ]
     },
     "execution_count": 10,
     "metadata": {},
     "output_type": "execute_result"
    }
   ],
   "source": [
    "# Number of Rows\n",
    "nodes.count()"
   ]
  },
  {
   "cell_type": "markdown",
   "id": "c6236e25",
   "metadata": {},
   "source": [
    "## Create Spark for Edges"
   ]
  },
  {
   "cell_type": "code",
   "execution_count": 56,
   "id": "6f083de1",
   "metadata": {},
   "outputs": [],
   "source": [
    "# Create a Spark session\n",
    "spark2 = SparkSession.builder.appName(\"EDGES\").getOrCreate()\n",
    "\n",
    "# Convert the Pandas DataFrame to a PySpark DataFrame\n",
    "edges = spark2.createDataFrame(df_edges)"
   ]
  },
  {
   "cell_type": "code",
   "execution_count": 12,
   "id": "53cca8a2",
   "metadata": {},
   "outputs": [
    {
     "name": "stdout",
     "output_type": "stream",
     "text": [
      "+-----------+--------+-----------+\n",
      "|Source     |metaedge|target     |\n",
      "+-----------+--------+-----------+\n",
      "|Gene::801  |GiG     |Gene::7428 |\n",
      "|Gene::5987 |GiG     |Gene::9412 |\n",
      "|Gene::5747 |GiG     |Gene::79738|\n",
      "|Gene::3725 |GiG     |Gene::10514|\n",
      "|Gene::10014|GiG     |Gene::55844|\n",
      "+-----------+--------+-----------+\n",
      "only showing top 5 rows\n",
      "\n"
     ]
    }
   ],
   "source": [
    "# Show the first few rows of the PySpark DataFrame\n",
    "edges.show(5, truncate=False)"
   ]
  },
  {
   "cell_type": "code",
   "execution_count": 13,
   "id": "85b7aabd",
   "metadata": {},
   "outputs": [
    {
     "data": {
      "text/plain": [
       "1292210"
      ]
     },
     "execution_count": 13,
     "metadata": {},
     "output_type": "execute_result"
    }
   ],
   "source": [
    "# Nummber of Rows\n",
    "edges.count()"
   ]
  },
  {
   "cell_type": "markdown",
   "id": "f570f060",
   "metadata": {},
   "source": [
    "### Filter Nodes for Disease, Compound, and Gene"
   ]
  },
  {
   "cell_type": "code",
   "execution_count": 57,
   "id": "1b7d84f7",
   "metadata": {},
   "outputs": [],
   "source": [
    "# Compound, Disease, or Gene = cdg\n",
    "cdg = nodes.filter((nodes['kind'] == 'Disease') | \n",
    "                   (nodes['kind'] == 'Compound') | \n",
    "                   (nodes['kind'] == 'Gene'))"
   ]
  },
  {
   "cell_type": "code",
   "execution_count": 15,
   "id": "47e787fe",
   "metadata": {},
   "outputs": [
    {
     "name": "stdout",
     "output_type": "stream",
     "text": [
      "+-----------------+------------+--------+\n",
      "|               id|        name|    kind|\n",
      "+-----------------+------------+--------+\n",
      "|Compound::XL00001|  MagicpillA|Compound|\n",
      "|Compound::XL00002|  MagicpillB|Compound|\n",
      "|Compound::XL00003|  MagicpillC|Compound|\n",
      "|Compound::DB00014|   Goserelin|Compound|\n",
      "|Compound::DB00035|Desmopressin|Compound|\n",
      "+-----------------+------------+--------+\n",
      "only showing top 5 rows\n",
      "\n"
     ]
    }
   ],
   "source": [
    "# Show first five entries\n",
    "cdg.show(5)"
   ]
  },
  {
   "cell_type": "code",
   "execution_count": 16,
   "id": "e063a043",
   "metadata": {},
   "outputs": [
    {
     "data": {
      "text/plain": [
       "22640"
      ]
     },
     "execution_count": 16,
     "metadata": {},
     "output_type": "execute_result"
    }
   ],
   "source": [
    "# Number of Rows\n",
    "cdg.count()"
   ]
  },
  {
   "cell_type": "markdown",
   "id": "7859c50f",
   "metadata": {},
   "source": [
    "### Filter Edges for Compound Associations with Gene and Disease"
   ]
  },
  {
   "cell_type": "code",
   "execution_count": 58,
   "id": "a153ed0b",
   "metadata": {},
   "outputs": [],
   "source": [
    "# treatments is when a compound associates with a gene or disease\n",
    "# CtD = Compound treats Disease\n",
    "# CbG = Compound binds to Gene\n",
    "# CuG = Compound upregulates Gene\n",
    "# CdG = Compound downregulates Gene\n",
    "# CpD = Compound palliates Disease\n",
    "                                   \n",
    "treatments = edges.filter( (edges['metaedge'] == 'CtD') | \n",
    "                          (edges['metaedge'] == 'CbG') | \n",
    "                          (edges['metaedge'] == 'CuG') | \n",
    "                          (edges['metaedge'] == 'CdG') | \n",
    "                          (edges['metaedge'] == 'CpD') )"
   ]
  },
  {
   "cell_type": "code",
   "execution_count": 18,
   "id": "8994c47e",
   "metadata": {},
   "outputs": [
    {
     "name": "stdout",
     "output_type": "stream",
     "text": [
      "+-----------------+--------+-------------------+\n",
      "|Source           |metaedge|target             |\n",
      "+-----------------+--------+-------------------+\n",
      "|Compound::DB00997|CtD     |Disease::DOID:363  |\n",
      "|Compound::DB00206|CtD     |Disease::DOID:10763|\n",
      "|Compound::DB00960|CtD     |Disease::DOID:10763|\n",
      "|Compound::DB00665|CtD     |Disease::DOID:10283|\n",
      "|Compound::DB00290|CtD     |Disease::DOID:2998 |\n",
      "+-----------------+--------+-------------------+\n",
      "only showing top 5 rows\n",
      "\n"
     ]
    }
   ],
   "source": [
    "# Show first five enties and turn of truncation\n",
    "treatments.show(5, truncate=False)"
   ]
  },
  {
   "cell_type": "code",
   "execution_count": 19,
   "id": "55689bc5",
   "metadata": {},
   "outputs": [
    {
     "data": {
      "text/plain": [
       "52577"
      ]
     },
     "execution_count": 19,
     "metadata": {},
     "output_type": "execute_result"
    }
   ],
   "source": [
    "# Number of Rows\n",
    "treatments.count()"
   ]
  },
  {
   "cell_type": "markdown",
   "id": "0b035343",
   "metadata": {},
   "source": [
    "## Join Edges Row to Nodes Row if the id in Nodes equals Source_id in Edges"
   ]
  },
  {
   "cell_type": "code",
   "execution_count": 59,
   "id": "ed1668e3",
   "metadata": {},
   "outputs": [],
   "source": [
    "# Join the row of treatments if the id of cdg equals the Source of treatments\n",
    "joined_df = cdg.join(treatments, \n",
    "                     cdg['id'] == treatments['Source'], \n",
    "                     'inner')"
   ]
  },
  {
   "cell_type": "code",
   "execution_count": 60,
   "id": "246b400e",
   "metadata": {
    "scrolled": true
   },
   "outputs": [
    {
     "name": "stdout",
     "output_type": "stream",
     "text": [
      "+-----------------+--------------------+--------+-----------------+--------+--------------------+\n",
      "|               id|                name|    kind|           Source|metaedge|              target|\n",
      "+-----------------+--------------------+--------+-----------------+--------+--------------------+\n",
      "|Compound::DB01073|         Fludarabine|Compound|Compound::DB01073|     CtD|Disease::DOID:006...|\n",
      "|Compound::DB01073|         Fludarabine|Compound|Compound::DB01073|     CtD|  Disease::DOID:2531|\n",
      "|Compound::DB00945|Acetylsalicylic acid|Compound|Compound::DB00945|     CtD|  Disease::DOID:3393|\n",
      "|Compound::DB00945|Acetylsalicylic acid|Compound|Compound::DB00945|     CtD| Disease::DOID:13378|\n",
      "|Compound::DB00945|Acetylsalicylic acid|Compound|Compound::DB00945|     CbG|          Gene::5743|\n",
      "+-----------------+--------------------+--------+-----------------+--------+--------------------+\n",
      "only showing top 5 rows\n",
      "\n"
     ]
    }
   ],
   "source": [
    "# Show first five entries\n",
    "joined_df.show(5)"
   ]
  },
  {
   "cell_type": "code",
   "execution_count": 22,
   "id": "b0e73bf7",
   "metadata": {},
   "outputs": [
    {
     "data": {
      "text/plain": [
       "52577"
      ]
     },
     "execution_count": 22,
     "metadata": {},
     "output_type": "execute_result"
    }
   ],
   "source": [
    "# Count the number of rows\n",
    "joined_df.count()"
   ]
  },
  {
   "cell_type": "markdown",
   "id": "57d4d8a4",
   "metadata": {},
   "source": [
    "# Problem 1"
   ]
  },
  {
   "cell_type": "markdown",
   "id": "759a2d52",
   "metadata": {},
   "source": [
    "## Create new Table of Compound and Number of Associations with Genes and Diseases"
   ]
  },
  {
   "cell_type": "code",
   "execution_count": 61,
   "id": "3a62ac07",
   "metadata": {
    "scrolled": true
   },
   "outputs": [],
   "source": [
    "# Create new table where it groups by id first then sums the number of assoications of \n",
    "# diseases by CtD and CpD and sums the number of assoications of genes by CbG, CuG, CdG\n",
    "# and makes two new columns called num_diseases and num_genes.\n",
    "# 0 means it does not assoicate with any drugs and/or diseases\n",
    "grouped_df_ID = joined_df.groupBy('id').agg(\n",
    "    sum(when(col('metaedge').isin('CtD', 'CpD'), 1).otherwise(0)).alias('num_diseases'),\n",
    "    sum(when(col('metaedge').isin('CbG', 'CuG', 'CdG'), 1).otherwise(0)).alias('num_genes')\n",
    ")"
   ]
  },
  {
   "cell_type": "markdown",
   "id": "c9df084d",
   "metadata": {},
   "source": [
    "## Number of Genes and Diseases Associated with Drugs"
   ]
  },
  {
   "cell_type": "code",
   "execution_count": 24,
   "id": "f954d3b2",
   "metadata": {},
   "outputs": [
    {
     "name": "stdout",
     "output_type": "stream",
     "text": [
      "+-----------------+------------+---------+\n",
      "|               id|num_diseases|num_genes|\n",
      "+-----------------+------------+---------+\n",
      "|Compound::DB01073|           2|        5|\n",
      "|Compound::DB00945|           7|       18|\n",
      "|Compound::DB01407|           0|       19|\n",
      "|Compound::DB01466|           0|        7|\n",
      "|Compound::DB01235|           2|       22|\n",
      "+-----------------+------------+---------+\n",
      "only showing top 5 rows\n",
      "\n"
     ]
    }
   ],
   "source": [
    "# Show the first five of the table\n",
    "grouped_df_ID.show(5)"
   ]
  },
  {
   "cell_type": "code",
   "execution_count": 25,
   "id": "711f2266",
   "metadata": {},
   "outputs": [
    {
     "data": {
      "text/plain": [
       "1445"
      ]
     },
     "execution_count": 25,
     "metadata": {},
     "output_type": "execute_result"
    }
   ],
   "source": [
    "# Number of Rows\n",
    "grouped_df_ID.count()"
   ]
  },
  {
   "cell_type": "markdown",
   "id": "07d03f66",
   "metadata": {},
   "source": [
    "## Top 5 Genes"
   ]
  },
  {
   "cell_type": "code",
   "execution_count": 26,
   "id": "6e766fea",
   "metadata": {},
   "outputs": [],
   "source": [
    "# I make a new table where I order the num_genes by descending order\n",
    "top_5_genes_withID = grouped_df_ID.orderBy(col('num_genes').desc())"
   ]
  },
  {
   "cell_type": "code",
   "execution_count": 27,
   "id": "13b40a8f",
   "metadata": {
    "scrolled": true
   },
   "outputs": [
    {
     "name": "stdout",
     "output_type": "stream",
     "text": [
      "+-----------------+---------+\n",
      "|               id|num_genes|\n",
      "+-----------------+---------+\n",
      "|Compound::DB08865|      585|\n",
      "|Compound::DB01254|      564|\n",
      "|Compound::DB00997|      532|\n",
      "|Compound::DB00570|      523|\n",
      "|Compound::DB00390|      522|\n",
      "+-----------------+---------+\n",
      "\n"
     ]
    }
   ],
   "source": [
    "# Show only the top 5 num_genes\n",
    "result1 = top_5_genes_withID.select(\"id\", \"num_genes\")\n",
    "result1.limit(5).show()"
   ]
  },
  {
   "cell_type": "markdown",
   "id": "3e23ba11",
   "metadata": {},
   "source": [
    "# Problem 2"
   ]
  },
  {
   "cell_type": "markdown",
   "id": "13034934",
   "metadata": {},
   "source": [
    "## Create simlar Table as Used Problem 1 but Group by Name"
   ]
  },
  {
   "cell_type": "code",
   "execution_count": 62,
   "id": "d4281f8b",
   "metadata": {},
   "outputs": [],
   "source": [
    "# Do the same as grouped_df_ID but now the table is grouped by name\n",
    "grouped_df_name = joined_df.groupBy('name').agg(\n",
    "    sum(when(col('metaedge').isin('CtD', 'CpD'), 1).otherwise(0)).alias('num_diseases'),\n",
    "    sum(when(col('metaedge').isin('CbG', 'CuG', 'CdG'), 1).otherwise(0)).alias('num_genes')\n",
    ")"
   ]
  },
  {
   "cell_type": "code",
   "execution_count": 29,
   "id": "8732f380",
   "metadata": {},
   "outputs": [
    {
     "name": "stdout",
     "output_type": "stream",
     "text": [
      "+----------+------------+---------+\n",
      "|      name|num_diseases|num_genes|\n",
      "+----------+------------+---------+\n",
      "| Auranofin|           2|       63|\n",
      "|Tazarotene|           1|        5|\n",
      "| Almitrine|           0|        1|\n",
      "| Primidone|           1|       21|\n",
      "| Nebivolol|           1|        4|\n",
      "+----------+------------+---------+\n",
      "only showing top 5 rows\n",
      "\n"
     ]
    }
   ],
   "source": [
    "# Show the first five entries\n",
    "grouped_df_name.show(5)"
   ]
  },
  {
   "cell_type": "code",
   "execution_count": 30,
   "id": "5046967c",
   "metadata": {
    "scrolled": true
   },
   "outputs": [
    {
     "data": {
      "text/plain": [
       "1445"
      ]
     },
     "execution_count": 30,
     "metadata": {},
     "output_type": "execute_result"
    }
   ],
   "source": [
    "grouped_df_name.count()"
   ]
  },
  {
   "cell_type": "markdown",
   "id": "fb9b6978",
   "metadata": {},
   "source": [
    "### Create New Table that Sorts the Number of Drugs Based on How Many Disease Assoications"
   ]
  },
  {
   "cell_type": "code",
   "execution_count": 63,
   "id": "e7796127",
   "metadata": {},
   "outputs": [],
   "source": [
    "# Group by num_diseases and create a new column that \n",
    "# stores the list of drugs in list_in_names\n",
    "grouped_num_disease = grouped_df_name.groupBy(\"num_diseases\").agg(collect_list(\"name\").alias(\"list_of_names\"))"
   ]
  },
  {
   "cell_type": "code",
   "execution_count": 32,
   "id": "40cda0f2",
   "metadata": {},
   "outputs": [
    {
     "name": "stdout",
     "output_type": "stream",
     "text": [
      "+------------+----------------------------------------------------------------------------------------------------+\n",
      "|num_diseases|                                                                                       list_of_names|\n",
      "+------------+----------------------------------------------------------------------------------------------------+\n",
      "|          19|                                                                                      [Methotrexate]|\n",
      "|           0|[Almitrine, Penciclovir, Probucol, Mepenzolate, Phenprocoumon, N-Acetyl-D-glucosamine, Naphazolin...|\n",
      "|           7|                         [Fluorouracil, Acetylsalicylic acid, Dacarbazine, Vinblastine, Vincristine]|\n",
      "|           6| [Irinotecan, Azathioprine, Capecitabine, Mitoxantrone, Naproxen, Clonidine, Gemcitabine, Bleomycin]|\n",
      "|           9|                                                                 [Docetaxel, Celecoxib, Carboplatin]|\n",
      "+------------+----------------------------------------------------------------------------------------------------+\n",
      "only showing top 5 rows\n",
      "\n"
     ]
    }
   ],
   "source": [
    "# Show first five entries\n",
    "grouped_num_disease.show(5, truncate=100)"
   ]
  },
  {
   "cell_type": "code",
   "execution_count": 64,
   "id": "d06ccec8",
   "metadata": {},
   "outputs": [],
   "source": [
    "# Create new table that counts how many drugs \n",
    "# associate with a certain number of diseases\n",
    "grouped_num_disease_assoc = grouped_num_disease.withColumn(\"num_names\", size( col(\"list_of_names\") ))"
   ]
  },
  {
   "cell_type": "code",
   "execution_count": 34,
   "id": "1f05d62d",
   "metadata": {},
   "outputs": [
    {
     "name": "stdout",
     "output_type": "stream",
     "text": [
      "+------------+--------------------+---------+\n",
      "|num_diseases|       list_of_names|num_names|\n",
      "+------------+--------------------+---------+\n",
      "|          19|      [Methotrexate]|        1|\n",
      "|           0|[Almitrine, Penci...|      893|\n",
      "|           7|[Fluorouracil, Ac...|        5|\n",
      "|           6|[Irinotecan, Azat...|        8|\n",
      "|           9|[Docetaxel, Celec...|        3|\n",
      "+------------+--------------------+---------+\n",
      "only showing top 5 rows\n",
      "\n"
     ]
    }
   ],
   "source": [
    "grouped_num_disease_assoc.show(5)"
   ]
  },
  {
   "cell_type": "code",
   "execution_count": 91,
   "id": "91504f65",
   "metadata": {},
   "outputs": [],
   "source": [
    "# Select only the number of drugs and the number of diesease that they associate with\n",
    "# and then order num_diseases in descending order\n",
    "result2 = grouped_num_disease_assoc.select(\"num_names\", \"num_diseases\")\n",
    "result2 = result2.orderBy(\"num_names\", ascending=True)"
   ]
  },
  {
   "cell_type": "code",
   "execution_count": 92,
   "id": "88315df6",
   "metadata": {},
   "outputs": [
    {
     "name": "stdout",
     "output_type": "stream",
     "text": [
      "+---------+------------+\n",
      "|num_names|num_diseases|\n",
      "+---------+------------+\n",
      "|        1|          19|\n",
      "|        1|          11|\n",
      "|        2|          17|\n",
      "|        2|          10|\n",
      "|        2|          13|\n",
      "|        2|          14|\n",
      "|        2|          16|\n",
      "|        3|           9|\n",
      "|        3|           8|\n",
      "|        5|           7|\n",
      "+---------+------------+\n",
      "only showing top 10 rows\n",
      "\n"
     ]
    }
   ],
   "source": [
    "result2.show(10)"
   ]
  },
  {
   "cell_type": "code",
   "execution_count": 93,
   "id": "b0a4e6d1",
   "metadata": {},
   "outputs": [],
   "source": [
    "result2 = result2.groupBy(\"num_names\").agg(\n",
    "    F.count(\"num_diseases\").alias(\"grouped_diseases\")\n",
    ")\n",
    "result2 = result2.orderBy(col('num_names').asc())"
   ]
  },
  {
   "cell_type": "code",
   "execution_count": 88,
   "id": "9d9cd0e7",
   "metadata": {},
   "outputs": [
    {
     "name": "stdout",
     "output_type": "stream",
     "text": [
      "+---------+----------------+\n",
      "|num_names|grouped_diseases|\n",
      "+---------+----------------+\n",
      "|      893|               1|\n",
      "|      332|               1|\n",
      "|      107|               1|\n",
      "|       42|               1|\n",
      "|       30|               1|\n",
      "+---------+----------------+\n",
      "only showing top 5 rows\n",
      "\n"
     ]
    }
   ],
   "source": [
    "result2.show(5)"
   ]
  },
  {
   "cell_type": "code",
   "execution_count": 38,
   "id": "74f33b94",
   "metadata": {},
   "outputs": [],
   "source": [
    "###############################################################################"
   ]
  },
  {
   "cell_type": "code",
   "execution_count": 39,
   "id": "5ffe1c60",
   "metadata": {},
   "outputs": [],
   "source": [
    "# Extra associations that can be made from the data set"
   ]
  },
  {
   "cell_type": "code",
   "execution_count": 40,
   "id": "738ce32f",
   "metadata": {},
   "outputs": [
    {
     "name": "stdout",
     "output_type": "stream",
     "text": [
      "+-------------+------------+---------+\n",
      "|         name|num_diseases|num_genes|\n",
      "+-------------+------------+---------+\n",
      "| Methotrexate|          19|      175|\n",
      "|   Prednisone|          17|       14|\n",
      "|  Doxorubicin|          17|      532|\n",
      "|Dexamethasone|          16|      391|\n",
      "|Betamethasone|          16|      368|\n",
      "+-------------+------------+---------+\n",
      "\n"
     ]
    }
   ],
   "source": [
    "# Top 5 Disease Assoications \n",
    "top_5_diseases = grouped_df_name.orderBy(col('num_diseases').desc()).limit(5)\n",
    "top_5_diseases.show()"
   ]
  },
  {
   "cell_type": "code",
   "execution_count": 41,
   "id": "295f4fd9",
   "metadata": {},
   "outputs": [],
   "source": [
    "filtered_df = joined_df.filter((col(\"metaedge\") == \"CtD\") | (col(\"metaedge\") == \"CpD\"))"
   ]
  },
  {
   "cell_type": "code",
   "execution_count": 42,
   "id": "c1b8f4b4",
   "metadata": {},
   "outputs": [
    {
     "name": "stdout",
     "output_type": "stream",
     "text": [
      "+-----------------+--------------------+--------+-----------------+--------+--------------------+\n",
      "|               id|                name|    kind|           Source|metaedge|              target|\n",
      "+-----------------+--------------------+--------+-----------------+--------+--------------------+\n",
      "|Compound::DB01073|         Fludarabine|Compound|Compound::DB01073|     CtD|Disease::DOID:006...|\n",
      "|Compound::DB01073|         Fludarabine|Compound|Compound::DB01073|     CtD|  Disease::DOID:2531|\n",
      "|Compound::DB00945|Acetylsalicylic acid|Compound|Compound::DB00945|     CtD|  Disease::DOID:3393|\n",
      "|Compound::DB00945|Acetylsalicylic acid|Compound|Compound::DB00945|     CtD| Disease::DOID:13378|\n",
      "|Compound::DB00945|Acetylsalicylic acid|Compound|Compound::DB00945|     CpD|  Disease::DOID:9074|\n",
      "+-----------------+--------------------+--------+-----------------+--------+--------------------+\n",
      "only showing top 5 rows\n",
      "\n"
     ]
    }
   ],
   "source": [
    "filtered_df.show(5)"
   ]
  },
  {
   "cell_type": "code",
   "execution_count": 43,
   "id": "1736d158",
   "metadata": {},
   "outputs": [],
   "source": [
    "# Group by 'target' and count the occurrences\n",
    "result_df = filtered_df.groupBy(\"target\").agg(count(\"target\").alias(\"count\"))\n",
    "result_df = result_df.orderBy(col('count').desc())"
   ]
  },
  {
   "cell_type": "code",
   "execution_count": 44,
   "id": "5a025b4c",
   "metadata": {},
   "outputs": [
    {
     "name": "stdout",
     "output_type": "stream",
     "text": [
      "+-------------------+-----+\n",
      "|             target|count|\n",
      "+-------------------+-----+\n",
      "|Disease::DOID:10763|   70|\n",
      "| Disease::DOID:2531|   53|\n",
      "| Disease::DOID:1612|   43|\n",
      "| Disease::DOID:2841|   40|\n",
      "| Disease::DOID:3393|   38|\n",
      "+-------------------+-----+\n",
      "only showing top 5 rows\n",
      "\n"
     ]
    }
   ],
   "source": [
    "result_df.show(5)"
   ]
  },
  {
   "cell_type": "code",
   "execution_count": 45,
   "id": "d351b4f1",
   "metadata": {},
   "outputs": [],
   "source": [
    "###############################################################################"
   ]
  },
  {
   "cell_type": "markdown",
   "id": "92a8128f",
   "metadata": {},
   "source": [
    "# Problem 3"
   ]
  },
  {
   "cell_type": "code",
   "execution_count": 46,
   "id": "29e762f6",
   "metadata": {},
   "outputs": [],
   "source": [
    "# Order table in descenting order of num_genes\n",
    "top_5_genes_withName = grouped_df_name.orderBy(col('num_genes').desc()).limit(5)"
   ]
  },
  {
   "cell_type": "code",
   "execution_count": 47,
   "id": "ae0b67ce",
   "metadata": {},
   "outputs": [
    {
     "name": "stdout",
     "output_type": "stream",
     "text": [
      "+-----------+------------+---------+\n",
      "|       name|num_diseases|num_genes|\n",
      "+-----------+------------+---------+\n",
      "| Crizotinib|           1|      585|\n",
      "|  Dasatinib|           1|      564|\n",
      "|Doxorubicin|          17|      532|\n",
      "|Vinblastine|           7|      523|\n",
      "|    Digoxin|           2|      522|\n",
      "+-----------+------------+---------+\n",
      "\n"
     ]
    }
   ],
   "source": [
    "top_5_genes_withName.show()"
   ]
  },
  {
   "cell_type": "code",
   "execution_count": 48,
   "id": "3e95a599",
   "metadata": {},
   "outputs": [],
   "source": [
    "# Select only the tope 5 drug names that assoicate with the most num_genes\n",
    "result3 = top_5_genes_withName.select(\"name\").limit(5)"
   ]
  },
  {
   "cell_type": "code",
   "execution_count": 49,
   "id": "e4e59e5d",
   "metadata": {},
   "outputs": [
    {
     "name": "stdout",
     "output_type": "stream",
     "text": [
      "+-----------+\n",
      "|       name|\n",
      "+-----------+\n",
      "| Crizotinib|\n",
      "|  Dasatinib|\n",
      "|Doxorubicin|\n",
      "|Vinblastine|\n",
      "|    Digoxin|\n",
      "+-----------+\n",
      "\n"
     ]
    }
   ],
   "source": [
    "result3.show()"
   ]
  },
  {
   "cell_type": "code",
   "execution_count": 50,
   "id": "80342888",
   "metadata": {},
   "outputs": [],
   "source": [
    "#Stop the Spark session when you're done\n",
    "spark1.stop()\n",
    "spark2.stop()"
   ]
  }
 ],
 "metadata": {
  "kernelspec": {
   "display_name": "Python 3 (ipykernel)",
   "language": "python",
   "name": "python3"
  },
  "language_info": {
   "codemirror_mode": {
    "name": "ipython",
    "version": 3
   },
   "file_extension": ".py",
   "mimetype": "text/x-python",
   "name": "python",
   "nbconvert_exporter": "python",
   "pygments_lexer": "ipython3",
   "version": "3.9.12"
  }
 },
 "nbformat": 4,
 "nbformat_minor": 5
}
